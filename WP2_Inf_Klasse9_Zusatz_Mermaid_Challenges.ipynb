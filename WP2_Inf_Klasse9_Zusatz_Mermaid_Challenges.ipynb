{
  "cells": [
    {
      "cell_type": "markdown",
      "metadata": {},
      "source": [
        "# WP II Informatik – Zusatz: Mermaid Challenges\n",
        "\n",
        "Diese Aufgaben sind **freiwillig** und gedacht für alle, die in Stunde 2 schneller fertig werden\n",
        "oder sich noch weiter ausprobieren wollen.\n"
      ]
    },
    {
      "cell_type": "markdown",
      "metadata": {},
      "source": [
        "## Challenge 1: Pfeile mit Labels\n",
        "\n",
        "Ergänze **Texte auf den Pfeilen**, die die Art der Verbindung beschreiben.\n",
        "\n",
        "Beispiel:\n",
        "```mermaid\n",
        "graph TD\n",
        "  A[Schüler-PC] -->|Login| B[Server]\n",
        "  B -->|Speichert Daten| C[Dateien]\n",
        "```"
      ]
    },
    {
      "cell_type": "markdown",
      "metadata": {},
      "source": [
        "## Challenge 2: Unterschiedliche Formen\n",
        "\n",
        "Nutze verschiedene Formen für deine Knoten:\n",
        "- Rechteck: `[Text]`\n",
        "- Runde Kanten: `(Text)`\n",
        "- Kreis: `((Text))`\n",
        "- Rhombus: `{Text}`\n",
        "\n",
        "Beispiel:\n",
        "```mermaid\n",
        "graph LR\n",
        "  A((Internet)) --> B{Router}\n",
        "  B --> C[Server]\n",
        "  C --> D(PC)\n",
        "```"
      ]
    },
    {
      "cell_type": "markdown",
      "metadata": {},
      "source": [
        "## Challenge 3: Farben und Styles\n",
        "\n",
        "Du kannst auch verschiedene Farben nutzen oder Ränder dicker gestalten:\n",
        "\n",
        "```mermaid\n",
        "graph TD\n",
        "  A[PC] --> B[Server]\n",
        "  style A fill:#ffcccc,stroke:#333,stroke-width:2px\n",
        "  style B fill:#ccffcc,stroke:#333,stroke-width:2px\n",
        "```"
      ]
    },
    {
      "cell_type": "markdown",
      "metadata": {},
      "source": [
        "## Challenge 4: Fehler finden\n",
        "\n",
        "Hier ein falsches Diagramm. Korrigiere es so, dass es sinnvoll wird:\n",
        "\n",
        "```mermaid\n",
        "graph TD\n",
        "  A[PC] --> C[Daten]\n",
        "  B[Server] --> A\n",
        "```\n",
        "\n",
        "👉 Frage: Fehlt hier etwas? Wo sollte „Server“ stehen?"
      ]
    },
    {
      "cell_type": "markdown",
      "id": "bd0e6ff5",
      "metadata": {},
      "source": [
        "## Challenge 5: KI-Diagramme\n",
        "\n",
        "Lass dir zu einem Thema deiner Wahl ein Mermaid-Diagramm von einer KI erstellen."
      ]
    }
  ],
  "metadata": {
    "kernelspec": {
      "display_name": "Python 3",
      "language": "python",
      "name": "python3"
    },
    "language_info": {
      "name": "python",
      "version": "3.x"
    }
  },
  "nbformat": 4,
  "nbformat_minor": 5
}
