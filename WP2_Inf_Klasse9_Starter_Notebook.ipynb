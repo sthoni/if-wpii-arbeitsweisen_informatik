{
  "cells": [
    {
      "cell_type": "markdown",
      "metadata": {},
      "source": [
        "# Willkommen im WP II Informatik – Klasse 9 🎉\n",
        "\n",
        "Dies ist dein **erstes Jupyter-Notebook**.\n",
        "\n",
        "**So nutzen wir es als digitales Heft:**\n",
        "- Du hältst hier Notizen fest.\n",
        "- Du dokumentierst Ergebnisse (z. B. mit Screenshots/Bildern).\n",
        "- Später sammelst du hier auch Erkenntnisse und Reflexionen.\n",
        "\n",
        "👉 **Wichtig:** Am Anfang schreiben wir nur **Markdown** (Textformatierung). Programmieren kommt viel später.\n"
      ]
    },
    {
      "cell_type": "markdown",
      "metadata": {},
      "source": [
        "## Inhaltsüberblick\n",
        "- [Wer bin ich?](#wer-bin-ich)\n",
        "- [Erste Markdown-Übungen](#erste-markdown-übungen)\n",
        "- [Screenshots & Bilder](#screenshots--bilder)\n",
        "- [KI – Helfer oder Störenfried?](#ki--helfer-oder-störenfried)\n",
        "- [Ausblick](#ausblick-auf-nächste-stunde)\n"
      ]
    },
    {
      "cell_type": "markdown",
      "metadata": {
        "jp-MarkdownHeadingCollapsed": false
      },
      "source": [
        "## Wer bin ich?\n",
        "\n",
        "Mein Name: …  \n",
        "Ich habe **WP II Informatik** gewählt, weil …\n",
        "\n",
        "👉 *Aufgabe:* Ergänze den Text mit deinen eigenen Antworten. Du kannst auch eine kleine Liste machen:\n",
        "\n",
        "- Lieblingsfach: …\n",
        "- Lieblings-App: …\n",
        "- *Ich bin ein Automat, weil …* 😉 (Spaßfrage)\n"
      ]
    },
    {
      "cell_type": "markdown",
      "metadata": {},
      "source": [
        "## Erste Markdown-Übungen\n",
        "\n",
        "### Überschriften\n",
        "# Das ist eine große Überschrift\n",
        "## Das ist eine kleinere Überschrift\n",
        "### Das ist noch kleiner\n",
        "\n",
        "### Listen\n",
        "- Ein Punkt\n",
        "- Noch ein Punkt\n",
        "  - Unterpunkt\n",
        "  - Unterpunkt\n",
        "\n",
        "### Fett und kursiv\n",
        "**fett**  \n",
        "*kursiv*\n",
        "\n",
        "👉 *Aufgabe:* Schreibe **3 Sätze** über dich und nutze dabei mindestens:\n",
        "- eine Überschrift,\n",
        "- eine Liste,\n",
        "- ein **fett** oder *kursiv* hervorgehobenes Wort.\n"
      ]
    },
    {
      "cell_type": "markdown",
      "metadata": {},
      "source": [
        "## Screenshots & Bilder\n",
        "\n",
        "Manchmal sollst du deine Arbeit dokumentieren, z. B. mit einem Screenshot.\n",
        "\n",
        "**So fügst du ein Bild ein:**\n",
        "1. Mache einen Screenshot (z. B. mit *Snipping Tool* oder `Strg` + `Druck`).  \n",
        "2. Speichere die Datei (z. B. in deinen Downloads).  \n",
        "3. In Jupyter: Menü **Einfügen → Bild** wählen *oder* die Datei per Drag&Drop in die Zelle ziehen.  \n",
        "\n",
        "Du kannst Bilder auch per Markdown einbinden:\n",
        "\n",
        "```markdown\n",
        "![Alternativtext](pfad/zum/bild.png)\n",
        "```\n",
        "\n",
        "👉 *Aufgabe:* Mache einen Screenshot (z. B. von deinem Desktop oder Browser) und füge ihn **unter diese Zeile** ein.\n"
      ]
    },
    {
      "cell_type": "markdown",
      "metadata": {},
      "source": [
        "## KI – Helfer oder Störenfried?\n",
        "\n",
        "Manchmal darfst du eine **KI (z. B. ChatGPT)** benutzen. Aber Achtung:\n",
        "- KI ist nicht immer richtig.\n",
        "- Erklärungen können zu schwer oder zu oberflächlich sein.\n",
        "- Du bist verantwortlich, die Antwort **kritisch zu prüfen**.\n",
        "\n",
        "👉 *Aufgabe:*\n",
        "1. Bitte eine KI: *„Erstelle mir eine Markdown-Tabelle für meinen Stundenplan (3 Zeilen, 5 Spalten).“*  \n",
        "2. Kopiere die Antwort **hierher**.  \n",
        "3. Schreibe darunter: *Was gefällt dir? Was fehlt oder ist unklar?*\n"
      ]
    },
    {
      "cell_type": "markdown",
      "metadata": {},
      "source": [
        "## Nützliche Tastenkürzel\n",
        "- `Strg` + `A`: alles auswählen\n",
        "- `Strg` + `C`: kopieren\n",
        "- `Strg` + `V`: einfügen\n",
        "- `Strg` + `X`: ausschneiden\n",
        "- `Strg` + `Z`: rückgängig\n",
        "- `Strg` + `F`: suchen\n"
      ]
    },
    {
      "cell_type": "markdown",
      "metadata": {},
      "source": [
        "## Ausblick auf nächste Stunde\n",
        "- Wir üben noch etwas Markdown (Tabellen, evtl. einfache Diagramme/Skizzen).\n",
        "- Danach starten wir mit dem ersten inhaltlichen Thema: **Automaten** (Zustände, Übergänge, Beispiele aus dem Alltag).\n"
      ]
    },
    {
      "cell_type": "markdown",
      "metadata": {},
      "source": [
        "---\n",
        "### (Optional) Markdown-Merkblatt – Mini-Syntax\n",
        "- Überschrift Ebene 1: `# Titel`\n",
        "- Liste: `- Punkt`  \n",
        "- Fett/Kursiv: `**fett**`, `*kursiv*`\n",
        "- Link: `[Text](https://beispiel.de)`\n",
        "- Bild: `![Alt](pfad/zum/bild.png)`\n",
        "- Codeblock: drei Backticks ```\n"
      ]
    }
  ],
  "metadata": {
    "kernelspec": {
      "display_name": "Python 3",
      "language": "python",
      "name": "python3"
    },
    "language_info": {
      "name": "python",
      "version": "3.x"
    }
  },
  "nbformat": 4,
  "nbformat_minor": 5
}