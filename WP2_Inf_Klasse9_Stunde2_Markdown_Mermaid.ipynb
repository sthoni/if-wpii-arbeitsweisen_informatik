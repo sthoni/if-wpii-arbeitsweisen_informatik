{
  "cells": [
    {
      "cell_type": "markdown",
      "metadata": {},
      "source": [
        "# WP II Informatik – Stunde 2\n",
        "\n",
        "Heute übst du, **Diagramme mit Markdown/Mermaid** zu erstellen.\n",
        "Damit kannst du Abläufe und Zusammenhänge **visuell** darstellen.\n",
        "\n",
        "👉 Ziel: Du sollst ein **Schulnetzwerk** als Diagramm beschreiben und dich danach kreativ ausprobieren.\n"
      ]
    },
    {
      "cell_type": "markdown",
      "metadata": {},
      "source": [
        "## Wiederholung aus Stunde 1\n",
        "- Überschriften: `#`, `##`, `###`\n",
        "- Listen: `- Punkt`\n",
        "- Fett/Kursiv: `**fett**`, `*kursiv*`\n",
        "\n",
        "👉 Aufgabe: Schreibe hier drei Sätze über dich mit einer **Überschrift**, einer **Liste** und mindestens einem **fett** markierten Wort."
      ]
    },
    {
      "cell_type": "markdown",
      "metadata": {},
      "source": [
        "## Einstieg in Mermaid\n",
        "Mit Mermaid kannst du **Diagramme** direkt in Markdown schreiben.\n",
        "\n",
        "Beispiel:\n",
        "```mermaid\n",
        "graph TD\n",
        "  A[Schüler-PC] --> B[Schulnetzwerk]\n",
        "  B --> C[Server]\n",
        "  C --> D[Dateien]\n",
        "```\n",
        "\n",
        "👉 Aufgabe 1: Führe den Code oben aus und schaue dir das Diagramm an.\n",
        "\n",
        "👉 Aufgabe 2: Passe es an, sodass es dein Verständnis vom Schulnetzwerk zeigt.\n",
        "- Ergänze JupyterHub (falls bekannt)\n",
        "- Ergänze Internet\n",
        "- Ergänze dich selbst als Nutzer"
      ]
    },
    {
      "cell_type": "markdown",
      "metadata": {},
      "source": [
        "## Kreativ-Aufgabe\n",
        "Jetzt bist du dran: Erstelle ein **eigenes Diagramm** mit Mermaid.\n",
        "\n",
        "Ideen:\n",
        "- Dein Gaming-Setup\n",
        "- Dein Handy und wer alles Daten bekommt\n",
        "- \"So stelle ich mir das Internet vor\"\n",
        "- Deine Familie oder Freunde\n",
        "- Lehrkräfte an der Schule\n",
        "- Oder ein Fantasie-Diagramm (z. B. Hogwarts-Hauspunkte-System, Fußballtaktik, Lieblings-Apps)\n",
        "\n",
        "👉 Aufgabe: Erstelle ein eigenes Diagramm (mindestens 5 Knoten, 3 Verbindungen).\n",
        "👉 Zusatz: Nutze unterschiedliche Formen (`[]`, `()`, `(( ))`)."
      ]
    },
    {
      "cell_type": "markdown",
      "metadata": {},
      "source": [
        "## Präsentation\n",
        "Wähle eines deiner Diagramme und stelle es der Klasse vor.\n",
        "\n",
        "👉 Aufgabe: Schreibe unter dein Diagramm 2–3 Sätze:\n",
        "- Was zeigt mein Diagramm?\n",
        "- Warum habe ich es so dargestellt?\n",
        "- Was war schwierig bei der Erstellung?"
      ]
    },
    {
      "cell_type": "markdown",
      "metadata": {},
      "source": [
        "## Reflexion\n",
        "Zum Abschluss:\n",
        "\n",
        "👉 Aufgabe: Ergänze diese beiden Sätze:\n",
        "- \"Das habe ich heute über **Netzwerke** gelernt: …\"\n",
        "- \"Das habe ich heute über **Markdown/Mermaid** gelernt: …\"\n"
      ]
    }
  ],
  "metadata": {
    "kernelspec": {
      "display_name": "Python 3",
      "language": "python",
      "name": "python3"
    },
    "language_info": {
      "name": "python",
      "version": "3.x"
    }
  },
  "nbformat": 4,
  "nbformat_minor": 5
}
